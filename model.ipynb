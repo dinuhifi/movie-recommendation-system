{
 "cells": [
  {
   "cell_type": "markdown",
   "id": "df288de5-f132-43a8-828c-2972725bd6d3",
   "metadata": {},
   "source": [
    "### Importing Modules and Dataset"
   ]
  },
  {
   "cell_type": "code",
   "execution_count": 1,
   "id": "2cc88c9c-38b6-4c4e-aa45-8555110b4b29",
   "metadata": {},
   "outputs": [],
   "source": [
    "import string, random\n",
    "import pandas as pd\n",
    "from surprise import Dataset, Reader\n",
    "from surprise.model_selection import train_test_split\n",
    "from surprise import SVD\n",
    "from surprise.model_selection import cross_validate"
   ]
  },
  {
   "cell_type": "code",
   "execution_count": 2,
   "id": "7a7dcd64-ae98-4d82-b172-ea49694df15b",
   "metadata": {},
   "outputs": [],
   "source": [
    "pd.set_option('display.max_columns', None)"
   ]
  },
  {
   "cell_type": "code",
   "execution_count": 3,
   "id": "0c77f1d1-152f-4cfc-8045-955d6ce4edfe",
   "metadata": {},
   "outputs": [],
   "source": [
    "df = pd.read_csv(\"tmdb.csv\")"
   ]
  },
  {
   "cell_type": "code",
   "execution_count": 4,
   "id": "b80f56e7-8307-4e07-829c-6e6adf818f15",
   "metadata": {},
   "outputs": [],
   "source": [
    "df = df.iloc[:10000,:]"
   ]
  },
  {
   "cell_type": "markdown",
   "id": "43787bac-c7c5-4d18-868d-29d7cf8286c2",
   "metadata": {},
   "source": [
    "### Content Based Filtering"
   ]
  },
  {
   "cell_type": "code",
   "execution_count": 5,
   "id": "aa3e7d6a-9454-4b40-98d4-278221c5d854",
   "metadata": {},
   "outputs": [],
   "source": [
    "# content based dataset\n",
    "# id\n",
    "# title\n",
    "# imdb_id\n",
    "# overview\n",
    "# genres\n",
    "# production_companies\n",
    "# keywords \n",
    "content_based_df = df[[\"id\", \"imdb_id\", \"title\", \"overview\", \"genres\", \"keywords\", \"production_companies\"]]"
   ]
  },
  {
   "cell_type": "code",
   "execution_count": 6,
   "id": "ce0789d4-1e26-4f67-a2cc-3ff9fb4ba6fa",
   "metadata": {},
   "outputs": [
    {
     "data": {
      "text/html": [
       "<div>\n",
       "<style scoped>\n",
       "    .dataframe tbody tr th:only-of-type {\n",
       "        vertical-align: middle;\n",
       "    }\n",
       "\n",
       "    .dataframe tbody tr th {\n",
       "        vertical-align: top;\n",
       "    }\n",
       "\n",
       "    .dataframe thead th {\n",
       "        text-align: right;\n",
       "    }\n",
       "</style>\n",
       "<table border=\"1\" class=\"dataframe\">\n",
       "  <thead>\n",
       "    <tr style=\"text-align: right;\">\n",
       "      <th></th>\n",
       "      <th>id</th>\n",
       "      <th>imdb_id</th>\n",
       "      <th>title</th>\n",
       "      <th>overview</th>\n",
       "      <th>genres</th>\n",
       "      <th>keywords</th>\n",
       "      <th>production_companies</th>\n",
       "    </tr>\n",
       "  </thead>\n",
       "  <tbody>\n",
       "    <tr>\n",
       "      <th>0</th>\n",
       "      <td>27205</td>\n",
       "      <td>tt1375666</td>\n",
       "      <td>Inception</td>\n",
       "      <td>Cobb, a skilled thief who commits corporate es...</td>\n",
       "      <td>Action, Science Fiction, Adventure</td>\n",
       "      <td>rescue, mission, dream, airplane, paris, franc...</td>\n",
       "      <td>Legendary Pictures, Syncopy, Warner Bros. Pict...</td>\n",
       "    </tr>\n",
       "    <tr>\n",
       "      <th>1</th>\n",
       "      <td>157336</td>\n",
       "      <td>tt0816692</td>\n",
       "      <td>Interstellar</td>\n",
       "      <td>The adventures of a group of explorers who mak...</td>\n",
       "      <td>Adventure, Drama, Science Fiction</td>\n",
       "      <td>rescue, future, spacecraft, race against time,...</td>\n",
       "      <td>Legendary Pictures, Syncopy, Lynda Obst Produc...</td>\n",
       "    </tr>\n",
       "    <tr>\n",
       "      <th>2</th>\n",
       "      <td>155</td>\n",
       "      <td>tt0468569</td>\n",
       "      <td>The Dark Knight</td>\n",
       "      <td>Batman raises the stakes in his war on crime. ...</td>\n",
       "      <td>Drama, Action, Crime, Thriller</td>\n",
       "      <td>joker, sadism, chaos, secret identity, crime f...</td>\n",
       "      <td>DC Comics, Legendary Pictures, Syncopy, Isobel...</td>\n",
       "    </tr>\n",
       "    <tr>\n",
       "      <th>3</th>\n",
       "      <td>19995</td>\n",
       "      <td>tt0499549</td>\n",
       "      <td>Avatar</td>\n",
       "      <td>In the 22nd century, a paraplegic Marine is di...</td>\n",
       "      <td>Action, Adventure, Fantasy, Science Fiction</td>\n",
       "      <td>future, society, culture clash, space travel, ...</td>\n",
       "      <td>Dune Entertainment, Lightstorm Entertainment, ...</td>\n",
       "    </tr>\n",
       "    <tr>\n",
       "      <th>4</th>\n",
       "      <td>24428</td>\n",
       "      <td>tt0848228</td>\n",
       "      <td>The Avengers</td>\n",
       "      <td>When an unexpected enemy emerges and threatens...</td>\n",
       "      <td>Science Fiction, Action, Adventure</td>\n",
       "      <td>new york city, superhero, shield, based on com...</td>\n",
       "      <td>Marvel Studios</td>\n",
       "    </tr>\n",
       "  </tbody>\n",
       "</table>\n",
       "</div>"
      ],
      "text/plain": [
       "       id    imdb_id            title  \\\n",
       "0   27205  tt1375666        Inception   \n",
       "1  157336  tt0816692     Interstellar   \n",
       "2     155  tt0468569  The Dark Knight   \n",
       "3   19995  tt0499549           Avatar   \n",
       "4   24428  tt0848228     The Avengers   \n",
       "\n",
       "                                            overview  \\\n",
       "0  Cobb, a skilled thief who commits corporate es...   \n",
       "1  The adventures of a group of explorers who mak...   \n",
       "2  Batman raises the stakes in his war on crime. ...   \n",
       "3  In the 22nd century, a paraplegic Marine is di...   \n",
       "4  When an unexpected enemy emerges and threatens...   \n",
       "\n",
       "                                        genres  \\\n",
       "0           Action, Science Fiction, Adventure   \n",
       "1            Adventure, Drama, Science Fiction   \n",
       "2               Drama, Action, Crime, Thriller   \n",
       "3  Action, Adventure, Fantasy, Science Fiction   \n",
       "4           Science Fiction, Action, Adventure   \n",
       "\n",
       "                                            keywords  \\\n",
       "0  rescue, mission, dream, airplane, paris, franc...   \n",
       "1  rescue, future, spacecraft, race against time,...   \n",
       "2  joker, sadism, chaos, secret identity, crime f...   \n",
       "3  future, society, culture clash, space travel, ...   \n",
       "4  new york city, superhero, shield, based on com...   \n",
       "\n",
       "                                production_companies  \n",
       "0  Legendary Pictures, Syncopy, Warner Bros. Pict...  \n",
       "1  Legendary Pictures, Syncopy, Lynda Obst Produc...  \n",
       "2  DC Comics, Legendary Pictures, Syncopy, Isobel...  \n",
       "3  Dune Entertainment, Lightstorm Entertainment, ...  \n",
       "4                                     Marvel Studios  "
      ]
     },
     "execution_count": 6,
     "metadata": {},
     "output_type": "execute_result"
    }
   ],
   "source": [
    "content_based_df.head()"
   ]
  },
  {
   "cell_type": "code",
   "execution_count": 7,
   "id": "eac9f769-1eef-4676-97aa-f4fbea53e73e",
   "metadata": {},
   "outputs": [],
   "source": [
    "content_based_df = content_based_df.fillna(\" \")"
   ]
  },
  {
   "cell_type": "code",
   "execution_count": 8,
   "id": "5b6f5c68-7733-4d31-a077-9f51beb0f9ce",
   "metadata": {},
   "outputs": [
    {
     "name": "stdout",
     "output_type": "stream",
     "text": [
      "<class 'pandas.core.frame.DataFrame'>\n",
      "RangeIndex: 10000 entries, 0 to 9999\n",
      "Data columns (total 7 columns):\n",
      " #   Column                Non-Null Count  Dtype \n",
      "---  ------                --------------  ----- \n",
      " 0   id                    10000 non-null  int64 \n",
      " 1   imdb_id               10000 non-null  object\n",
      " 2   title                 10000 non-null  object\n",
      " 3   overview              10000 non-null  object\n",
      " 4   genres                10000 non-null  object\n",
      " 5   keywords              10000 non-null  object\n",
      " 6   production_companies  10000 non-null  object\n",
      "dtypes: int64(1), object(6)\n",
      "memory usage: 547.0+ KB\n"
     ]
    }
   ],
   "source": [
    "content_based_df.info()"
   ]
  },
  {
   "cell_type": "code",
   "execution_count": 9,
   "id": "4958fa5f-6c36-4752-8b2b-a4df8ec70a87",
   "metadata": {},
   "outputs": [],
   "source": [
    "def filter_punc(text):\n",
    "    translator = str.maketrans('','',string.punctuation)\n",
    "    text = text.translate(translator)\n",
    "    return text"
   ]
  },
  {
   "cell_type": "code",
   "execution_count": 10,
   "id": "ce2c2006-92d0-4532-a30f-0b4513f3304f",
   "metadata": {},
   "outputs": [],
   "source": [
    "def filter_tags(text):\n",
    "    L = text.split(\",\")\n",
    "    for i in range(len(L)):\n",
    "        L[i] = L[i].replace(\" \", \"\")\n",
    "    text = \" \".join(L)\n",
    "    translator = str.maketrans('','',string.punctuation)\n",
    "    text = text.translate(translator)\n",
    "    return \" \"+text"
   ]
  },
  {
   "cell_type": "code",
   "execution_count": 11,
   "id": "19e03cd5-64aa-4c00-b0fc-19a700f7ebbe",
   "metadata": {},
   "outputs": [],
   "source": [
    "content_based_df[\"overview\"] = content_based_df[\"overview\"].apply(filter_punc)\n",
    "content_based_df[\"genres\"] = content_based_df[\"genres\"].apply(filter_tags)\n",
    "content_based_df[\"keywords\"] = content_based_df[\"keywords\"].apply(filter_tags)\n",
    "content_based_df[\"production_companies\"] = content_based_df[\"production_companies\"].apply(filter_tags)"
   ]
  },
  {
   "cell_type": "code",
   "execution_count": 12,
   "id": "313ba680-d0d0-4395-ba1c-1bd6308ba745",
   "metadata": {},
   "outputs": [
    {
     "data": {
      "text/html": [
       "<div>\n",
       "<style scoped>\n",
       "    .dataframe tbody tr th:only-of-type {\n",
       "        vertical-align: middle;\n",
       "    }\n",
       "\n",
       "    .dataframe tbody tr th {\n",
       "        vertical-align: top;\n",
       "    }\n",
       "\n",
       "    .dataframe thead th {\n",
       "        text-align: right;\n",
       "    }\n",
       "</style>\n",
       "<table border=\"1\" class=\"dataframe\">\n",
       "  <thead>\n",
       "    <tr style=\"text-align: right;\">\n",
       "      <th></th>\n",
       "      <th>id</th>\n",
       "      <th>imdb_id</th>\n",
       "      <th>title</th>\n",
       "      <th>overview</th>\n",
       "      <th>genres</th>\n",
       "      <th>keywords</th>\n",
       "      <th>production_companies</th>\n",
       "    </tr>\n",
       "  </thead>\n",
       "  <tbody>\n",
       "    <tr>\n",
       "      <th>0</th>\n",
       "      <td>27205</td>\n",
       "      <td>tt1375666</td>\n",
       "      <td>Inception</td>\n",
       "      <td>Cobb a skilled thief who commits corporate esp...</td>\n",
       "      <td>Action ScienceFiction Adventure</td>\n",
       "      <td>rescue mission dream airplane paris france vi...</td>\n",
       "      <td>LegendaryPictures Syncopy WarnerBrosPictures</td>\n",
       "    </tr>\n",
       "    <tr>\n",
       "      <th>1</th>\n",
       "      <td>157336</td>\n",
       "      <td>tt0816692</td>\n",
       "      <td>Interstellar</td>\n",
       "      <td>The adventures of a group of explorers who mak...</td>\n",
       "      <td>Adventure Drama ScienceFiction</td>\n",
       "      <td>rescue future spacecraft raceagainsttime arti...</td>\n",
       "      <td>LegendaryPictures Syncopy LyndaObstProductions</td>\n",
       "    </tr>\n",
       "    <tr>\n",
       "      <th>2</th>\n",
       "      <td>155</td>\n",
       "      <td>tt0468569</td>\n",
       "      <td>The Dark Knight</td>\n",
       "      <td>Batman raises the stakes in his war on crime W...</td>\n",
       "      <td>Drama Action Crime Thriller</td>\n",
       "      <td>joker sadism chaos secretidentity crimefighte...</td>\n",
       "      <td>DCComics LegendaryPictures Syncopy IsobelGrif...</td>\n",
       "    </tr>\n",
       "    <tr>\n",
       "      <th>3</th>\n",
       "      <td>19995</td>\n",
       "      <td>tt0499549</td>\n",
       "      <td>Avatar</td>\n",
       "      <td>In the 22nd century a paraplegic Marine is dis...</td>\n",
       "      <td>Action Adventure Fantasy ScienceFiction</td>\n",
       "      <td>future society cultureclash spacetravel space...</td>\n",
       "      <td>DuneEntertainment LightstormEntertainment 20t...</td>\n",
       "    </tr>\n",
       "    <tr>\n",
       "      <th>4</th>\n",
       "      <td>24428</td>\n",
       "      <td>tt0848228</td>\n",
       "      <td>The Avengers</td>\n",
       "      <td>When an unexpected enemy emerges and threatens...</td>\n",
       "      <td>ScienceFiction Action Adventure</td>\n",
       "      <td>newyorkcity superhero shield basedoncomic ali...</td>\n",
       "      <td>MarvelStudios</td>\n",
       "    </tr>\n",
       "  </tbody>\n",
       "</table>\n",
       "</div>"
      ],
      "text/plain": [
       "       id    imdb_id            title  \\\n",
       "0   27205  tt1375666        Inception   \n",
       "1  157336  tt0816692     Interstellar   \n",
       "2     155  tt0468569  The Dark Knight   \n",
       "3   19995  tt0499549           Avatar   \n",
       "4   24428  tt0848228     The Avengers   \n",
       "\n",
       "                                            overview  \\\n",
       "0  Cobb a skilled thief who commits corporate esp...   \n",
       "1  The adventures of a group of explorers who mak...   \n",
       "2  Batman raises the stakes in his war on crime W...   \n",
       "3  In the 22nd century a paraplegic Marine is dis...   \n",
       "4  When an unexpected enemy emerges and threatens...   \n",
       "\n",
       "                                     genres  \\\n",
       "0           Action ScienceFiction Adventure   \n",
       "1            Adventure Drama ScienceFiction   \n",
       "2               Drama Action Crime Thriller   \n",
       "3   Action Adventure Fantasy ScienceFiction   \n",
       "4           ScienceFiction Action Adventure   \n",
       "\n",
       "                                            keywords  \\\n",
       "0   rescue mission dream airplane paris france vi...   \n",
       "1   rescue future spacecraft raceagainsttime arti...   \n",
       "2   joker sadism chaos secretidentity crimefighte...   \n",
       "3   future society cultureclash spacetravel space...   \n",
       "4   newyorkcity superhero shield basedoncomic ali...   \n",
       "\n",
       "                                production_companies  \n",
       "0       LegendaryPictures Syncopy WarnerBrosPictures  \n",
       "1     LegendaryPictures Syncopy LyndaObstProductions  \n",
       "2   DCComics LegendaryPictures Syncopy IsobelGrif...  \n",
       "3   DuneEntertainment LightstormEntertainment 20t...  \n",
       "4                                      MarvelStudios  "
      ]
     },
     "execution_count": 12,
     "metadata": {},
     "output_type": "execute_result"
    }
   ],
   "source": [
    "content_based_df.head()"
   ]
  },
  {
   "cell_type": "code",
   "execution_count": 13,
   "id": "2b81d91d-e345-49d2-8bb5-12c6b771e53a",
   "metadata": {},
   "outputs": [
    {
     "name": "stdout",
     "output_type": "stream",
     "text": [
      "<class 'pandas.core.frame.DataFrame'>\n",
      "RangeIndex: 10000 entries, 0 to 9999\n",
      "Data columns (total 7 columns):\n",
      " #   Column                Non-Null Count  Dtype \n",
      "---  ------                --------------  ----- \n",
      " 0   id                    10000 non-null  int64 \n",
      " 1   imdb_id               10000 non-null  object\n",
      " 2   title                 10000 non-null  object\n",
      " 3   overview              10000 non-null  object\n",
      " 4   genres                10000 non-null  object\n",
      " 5   keywords              10000 non-null  object\n",
      " 6   production_companies  10000 non-null  object\n",
      "dtypes: int64(1), object(6)\n",
      "memory usage: 547.0+ KB\n"
     ]
    }
   ],
   "source": [
    "content_based_df.info()"
   ]
  },
  {
   "cell_type": "code",
   "execution_count": 14,
   "id": "4754929f-b806-4dee-9af8-d7fdaad631cb",
   "metadata": {},
   "outputs": [],
   "source": [
    "tags = content_based_df[\"overview\"] + content_based_df[\"genres\"] + content_based_df[\"keywords\"] + content_based_df[\"production_companies\"]\n",
    "content_based_df[\"tags\"] = tags\n",
    "content_based_df.drop(columns=[\"overview\", \"genres\", \"keywords\", \"production_companies\"], inplace=True)"
   ]
  },
  {
   "cell_type": "code",
   "execution_count": 15,
   "id": "768ddf01-c79a-40cb-b062-422cbade8922",
   "metadata": {},
   "outputs": [
    {
     "data": {
      "text/html": [
       "<div>\n",
       "<style scoped>\n",
       "    .dataframe tbody tr th:only-of-type {\n",
       "        vertical-align: middle;\n",
       "    }\n",
       "\n",
       "    .dataframe tbody tr th {\n",
       "        vertical-align: top;\n",
       "    }\n",
       "\n",
       "    .dataframe thead th {\n",
       "        text-align: right;\n",
       "    }\n",
       "</style>\n",
       "<table border=\"1\" class=\"dataframe\">\n",
       "  <thead>\n",
       "    <tr style=\"text-align: right;\">\n",
       "      <th></th>\n",
       "      <th>id</th>\n",
       "      <th>imdb_id</th>\n",
       "      <th>title</th>\n",
       "      <th>tags</th>\n",
       "    </tr>\n",
       "  </thead>\n",
       "  <tbody>\n",
       "    <tr>\n",
       "      <th>0</th>\n",
       "      <td>27205</td>\n",
       "      <td>tt1375666</td>\n",
       "      <td>Inception</td>\n",
       "      <td>Cobb a skilled thief who commits corporate esp...</td>\n",
       "    </tr>\n",
       "    <tr>\n",
       "      <th>1</th>\n",
       "      <td>157336</td>\n",
       "      <td>tt0816692</td>\n",
       "      <td>Interstellar</td>\n",
       "      <td>The adventures of a group of explorers who mak...</td>\n",
       "    </tr>\n",
       "    <tr>\n",
       "      <th>2</th>\n",
       "      <td>155</td>\n",
       "      <td>tt0468569</td>\n",
       "      <td>The Dark Knight</td>\n",
       "      <td>Batman raises the stakes in his war on crime W...</td>\n",
       "    </tr>\n",
       "    <tr>\n",
       "      <th>3</th>\n",
       "      <td>19995</td>\n",
       "      <td>tt0499549</td>\n",
       "      <td>Avatar</td>\n",
       "      <td>In the 22nd century a paraplegic Marine is dis...</td>\n",
       "    </tr>\n",
       "    <tr>\n",
       "      <th>4</th>\n",
       "      <td>24428</td>\n",
       "      <td>tt0848228</td>\n",
       "      <td>The Avengers</td>\n",
       "      <td>When an unexpected enemy emerges and threatens...</td>\n",
       "    </tr>\n",
       "  </tbody>\n",
       "</table>\n",
       "</div>"
      ],
      "text/plain": [
       "       id    imdb_id            title  \\\n",
       "0   27205  tt1375666        Inception   \n",
       "1  157336  tt0816692     Interstellar   \n",
       "2     155  tt0468569  The Dark Knight   \n",
       "3   19995  tt0499549           Avatar   \n",
       "4   24428  tt0848228     The Avengers   \n",
       "\n",
       "                                                tags  \n",
       "0  Cobb a skilled thief who commits corporate esp...  \n",
       "1  The adventures of a group of explorers who mak...  \n",
       "2  Batman raises the stakes in his war on crime W...  \n",
       "3  In the 22nd century a paraplegic Marine is dis...  \n",
       "4  When an unexpected enemy emerges and threatens...  "
      ]
     },
     "execution_count": 15,
     "metadata": {},
     "output_type": "execute_result"
    }
   ],
   "source": [
    "content_based_df.head()"
   ]
  },
  {
   "cell_type": "code",
   "execution_count": 16,
   "id": "99bc44b0-3a81-4c5a-a137-491fb63a06f0",
   "metadata": {},
   "outputs": [],
   "source": [
    "from nltk.stem.porter import PorterStemmer"
   ]
  },
  {
   "cell_type": "code",
   "execution_count": 17,
   "id": "0efd987b-eb74-4931-be11-20f892bb5e50",
   "metadata": {},
   "outputs": [],
   "source": [
    "ps = PorterStemmer()"
   ]
  },
  {
   "cell_type": "code",
   "execution_count": 18,
   "id": "33944c3a-4efd-4a9a-974d-3444afa36112",
   "metadata": {},
   "outputs": [],
   "source": [
    "def stemmer(text):\n",
    "    L = []\n",
    "    for i in text.split():\n",
    "        L.append(ps.stem(i))\n",
    "    return \" \".join(L)"
   ]
  },
  {
   "cell_type": "code",
   "execution_count": 19,
   "id": "4df1582f-9b27-4d13-9448-dc79a33184e6",
   "metadata": {},
   "outputs": [],
   "source": [
    "content_based_df[\"tags\"] = content_based_df[\"tags\"].apply(stemmer)"
   ]
  },
  {
   "cell_type": "code",
   "execution_count": 20,
   "id": "61c76b20-b30b-44a6-a4e0-987f264d4201",
   "metadata": {},
   "outputs": [],
   "source": [
    "from sklearn.feature_extraction.text import CountVectorizer"
   ]
  },
  {
   "cell_type": "code",
   "execution_count": 21,
   "id": "95129c71-41f4-4fb3-8dbd-5013d0c84777",
   "metadata": {},
   "outputs": [],
   "source": [
    "cv = CountVectorizer(max_features=5000, stop_words=\"english\")"
   ]
  },
  {
   "cell_type": "code",
   "execution_count": 22,
   "id": "85d0547e-77b9-468f-9ed4-2c1c467e2f8e",
   "metadata": {},
   "outputs": [],
   "source": [
    "vectors = cv.fit_transform(content_based_df[\"tags\"]).toarray()"
   ]
  },
  {
   "cell_type": "code",
   "execution_count": 23,
   "id": "213e4028-490b-4e21-8300-e19171deb179",
   "metadata": {},
   "outputs": [],
   "source": [
    "from sklearn.metrics.pairwise import cosine_similarity"
   ]
  },
  {
   "cell_type": "code",
   "execution_count": 24,
   "id": "f9ff105b-e0fe-479f-b5b9-71fe634669e3",
   "metadata": {},
   "outputs": [],
   "source": [
    "content_based_similarity = cosine_similarity(vectors)"
   ]
  },
  {
   "cell_type": "code",
   "execution_count": 25,
   "id": "5953c91a-4c58-4e31-991b-3ec3b3e8ac82",
   "metadata": {},
   "outputs": [],
   "source": [
    "def content_based_recommend(movie):\n",
    "    index = content_based_df[content_based_df[\"title\"] == movie].index[0]\n",
    "    distances = content_based_similarity[index]\n",
    "    movies_list = sorted(list(enumerate(distances)), reverse=True, key=lambda x:x[1])[1:6]\n",
    "    L = []\n",
    "    for i in movies_list:\n",
    "        L.append(content_based_df.iloc[i[0]].title)\n",
    "    return L"
   ]
  },
  {
   "cell_type": "code",
   "execution_count": 45,
   "id": "e06e28e1-3b36-4572-97b3-1aa5d82bfa53",
   "metadata": {},
   "outputs": [
    {
     "data": {
      "text/plain": [
       "['Avengers: Age of Ultron',\n",
       " 'Thor: Ragnarok',\n",
       " 'Marvel One-Shot: Agent Carter',\n",
       " 'Guardians of the Galaxy Vol. 3',\n",
       " 'Captain America: Civil War']"
      ]
     },
     "execution_count": 45,
     "metadata": {},
     "output_type": "execute_result"
    }
   ],
   "source": [
    "content_based_recommend(\"Avengers: Endgame\")"
   ]
  },
  {
   "cell_type": "markdown",
   "id": "202b72e4-a655-44a9-9d8e-23b80b7eb743",
   "metadata": {},
   "source": [
    "### Collaboartive Filtering"
   ]
  },
  {
   "cell_type": "code",
   "execution_count": 27,
   "id": "34886e10-1da0-4b4a-a1e3-9e528c9ea438",
   "metadata": {},
   "outputs": [],
   "source": [
    "collab_df = df[[\"id\", \"imdb_id\", \"title\", \"vote_count\", \"vote_average\"]]"
   ]
  },
  {
   "cell_type": "code",
   "execution_count": 28,
   "id": "5e2608fc-be47-4160-96b4-0cd43e190abb",
   "metadata": {},
   "outputs": [
    {
     "data": {
      "text/html": [
       "<div>\n",
       "<style scoped>\n",
       "    .dataframe tbody tr th:only-of-type {\n",
       "        vertical-align: middle;\n",
       "    }\n",
       "\n",
       "    .dataframe tbody tr th {\n",
       "        vertical-align: top;\n",
       "    }\n",
       "\n",
       "    .dataframe thead th {\n",
       "        text-align: right;\n",
       "    }\n",
       "</style>\n",
       "<table border=\"1\" class=\"dataframe\">\n",
       "  <thead>\n",
       "    <tr style=\"text-align: right;\">\n",
       "      <th></th>\n",
       "      <th>id</th>\n",
       "      <th>imdb_id</th>\n",
       "      <th>title</th>\n",
       "      <th>vote_count</th>\n",
       "      <th>vote_average</th>\n",
       "    </tr>\n",
       "  </thead>\n",
       "  <tbody>\n",
       "    <tr>\n",
       "      <th>0</th>\n",
       "      <td>27205</td>\n",
       "      <td>tt1375666</td>\n",
       "      <td>Inception</td>\n",
       "      <td>34495</td>\n",
       "      <td>8.364</td>\n",
       "    </tr>\n",
       "    <tr>\n",
       "      <th>1</th>\n",
       "      <td>157336</td>\n",
       "      <td>tt0816692</td>\n",
       "      <td>Interstellar</td>\n",
       "      <td>32571</td>\n",
       "      <td>8.417</td>\n",
       "    </tr>\n",
       "    <tr>\n",
       "      <th>2</th>\n",
       "      <td>155</td>\n",
       "      <td>tt0468569</td>\n",
       "      <td>The Dark Knight</td>\n",
       "      <td>30619</td>\n",
       "      <td>8.512</td>\n",
       "    </tr>\n",
       "    <tr>\n",
       "      <th>3</th>\n",
       "      <td>19995</td>\n",
       "      <td>tt0499549</td>\n",
       "      <td>Avatar</td>\n",
       "      <td>29815</td>\n",
       "      <td>7.573</td>\n",
       "    </tr>\n",
       "    <tr>\n",
       "      <th>4</th>\n",
       "      <td>24428</td>\n",
       "      <td>tt0848228</td>\n",
       "      <td>The Avengers</td>\n",
       "      <td>29166</td>\n",
       "      <td>7.710</td>\n",
       "    </tr>\n",
       "  </tbody>\n",
       "</table>\n",
       "</div>"
      ],
      "text/plain": [
       "       id    imdb_id            title  vote_count  vote_average\n",
       "0   27205  tt1375666        Inception       34495         8.364\n",
       "1  157336  tt0816692     Interstellar       32571         8.417\n",
       "2     155  tt0468569  The Dark Knight       30619         8.512\n",
       "3   19995  tt0499549           Avatar       29815         7.573\n",
       "4   24428  tt0848228     The Avengers       29166         7.710"
      ]
     },
     "execution_count": 28,
     "metadata": {},
     "output_type": "execute_result"
    }
   ],
   "source": [
    "collab_df.head()"
   ]
  },
  {
   "cell_type": "code",
   "execution_count": 29,
   "id": "11c22b7e-1b07-4d01-91c2-81c5390f5b73",
   "metadata": {},
   "outputs": [
    {
     "data": {
      "text/plain": [
       "(6.6243313, 4235.0)"
      ]
     },
     "execution_count": 29,
     "metadata": {},
     "output_type": "execute_result"
    }
   ],
   "source": [
    "vote_mean=collab_df['vote_average'].mean()\n",
    "vote_percentile=collab_df['vote_count'].quantile(0.9)\n",
    "vote_mean,vote_percentile"
   ]
  },
  {
   "cell_type": "code",
   "execution_count": 30,
   "id": "3cd9bb58-48e0-4750-ae83-3deb89ad5031",
   "metadata": {},
   "outputs": [],
   "source": [
    "def weighted_average(X,vote_mean=vote_mean,vote_percentile=vote_percentile):\n",
    "    R=X['vote_average']\n",
    "    v=X['vote_count']\n",
    "    return round((v/(v+vote_percentile)*R)+(vote_percentile/(vote_percentile+v)*vote_mean))"
   ]
  },
  {
   "cell_type": "code",
   "execution_count": 31,
   "id": "9ae60122-27bd-493c-8fcc-511b3c736846",
   "metadata": {},
   "outputs": [
    {
     "name": "stderr",
     "output_type": "stream",
     "text": [
      "C:\\Users\\dinuh\\AppData\\Local\\Temp\\ipykernel_10328\\685429760.py:1: SettingWithCopyWarning: \n",
      "A value is trying to be set on a copy of a slice from a DataFrame.\n",
      "Try using .loc[row_indexer,col_indexer] = value instead\n",
      "\n",
      "See the caveats in the documentation: https://pandas.pydata.org/pandas-docs/stable/user_guide/indexing.html#returning-a-view-versus-a-copy\n",
      "  collab_df['score']=collab_df.apply(weighted_average,axis=1)\n"
     ]
    },
    {
     "data": {
      "text/plain": [
       "0       8\n",
       "1       8\n",
       "2       8\n",
       "3       7\n",
       "4       8\n",
       "       ..\n",
       "9995    7\n",
       "9996    7\n",
       "9997    7\n",
       "9998    7\n",
       "9999    7\n",
       "Name: score, Length: 10000, dtype: int64"
      ]
     },
     "execution_count": 31,
     "metadata": {},
     "output_type": "execute_result"
    }
   ],
   "source": [
    "collab_df['score']=collab_df.apply(weighted_average,axis=1)\n",
    "collab_df['score']"
   ]
  },
  {
   "cell_type": "code",
   "execution_count": 32,
   "id": "928b995d-17f0-45a6-a9b4-e6ba46d1cc9f",
   "metadata": {},
   "outputs": [
    {
     "name": "stdout",
     "output_type": "stream",
     "text": [
      "Evaluating RMSE, MAE of algorithm SVD on 5 split(s).\n",
      "\n",
      "                  Fold 1  Fold 2  Fold 3  Fold 4  Fold 5  Mean    Std     \n",
      "RMSE (testset)    0.3811  0.3830  0.3735  0.3828  0.3719  0.3785  0.0048  \n",
      "MAE (testset)     0.2540  0.2548  0.2495  0.2543  0.2484  0.2522  0.0027  \n",
      "Fit time          0.35    0.43    0.42    0.45    0.32    0.39    0.05    \n",
      "Test time         0.04    0.04    0.05    0.06    0.03    0.04    0.01    \n"
     ]
    },
    {
     "data": {
      "text/plain": [
       "{'test_rmse': array([0.38113888, 0.38298471, 0.37349965, 0.38280436, 0.37192763]),\n",
       " 'test_mae': array([0.25401717, 0.25481465, 0.24946995, 0.25425299, 0.24839069]),\n",
       " 'fit_time': (0.34683680534362793,\n",
       "  0.43062758445739746,\n",
       "  0.4161853790283203,\n",
       "  0.44594883918762207,\n",
       "  0.32286906242370605),\n",
       " 'test_time': (0.03780364990234375,\n",
       "  0.042413949966430664,\n",
       "  0.04730510711669922,\n",
       "  0.06265068054199219,\n",
       "  0.031369686126708984)}"
      ]
     },
     "execution_count": 32,
     "metadata": {},
     "output_type": "execute_result"
    }
   ],
   "source": [
    "reader = Reader(rating_scale=(1, 10))\n",
    "data = Dataset.load_from_df(collab_df[['id', 'title', 'score']], reader)\n",
    "trainset, testset = train_test_split(data, test_size=0.2)\n",
    "colab_filt = SVD()\n",
    "cross_validate(colab_filt, data, measures=['RMSE', 'MAE'],cv=5,verbose=True)"
   ]
  },
  {
   "cell_type": "code",
   "execution_count": 33,
   "id": "ac65a5f5-4be0-494f-81b0-cd82aa691c4a",
   "metadata": {},
   "outputs": [
    {
     "data": {
      "text/plain": [
       "<surprise.prediction_algorithms.matrix_factorization.SVD at 0x183833995d0>"
      ]
     },
     "execution_count": 33,
     "metadata": {},
     "output_type": "execute_result"
    }
   ],
   "source": [
    "colab_filt.fit(trainset)"
   ]
  },
  {
   "cell_type": "code",
   "execution_count": 34,
   "id": "35fbe2d0-dec0-46fb-9795-121680e55ee4",
   "metadata": {},
   "outputs": [],
   "source": [
    "def collaborative_recommend(id, movie, n=5):\n",
    "    user_movie_titles = collab_df[collab_df['id'] == id]['title'].values\n",
    "    user_movie_recs = [title for title in collab_df['title'].unique() if title not in user_movie_titles]\n",
    "    collaborative_rec = [random.choice([title for title in user_movie_recs if colab_filt.predict(id, title).est > 3.5]) for i in range(n)]\n",
    "    return collaborative_rec"
   ]
  },
  {
   "cell_type": "code",
   "execution_count": 35,
   "id": "9a17213b-8c50-47a2-a416-8dbd192e9a59",
   "metadata": {},
   "outputs": [
    {
     "data": {
      "text/plain": [
       "['Mermaids',\n",
       " 'Mandy',\n",
       " 'Malice',\n",
       " 'Barbie Presents: Thumbelina',\n",
       " 'My Name Is Nobody']"
      ]
     },
     "execution_count": 35,
     "metadata": {},
     "output_type": "execute_result"
    }
   ],
   "source": [
    "collaborative_recommend(1999,\"Avatar\")"
   ]
  },
  {
   "cell_type": "markdown",
   "id": "0fbd5c74-b59b-4760-aba2-2d947e4bd0c9",
   "metadata": {},
   "source": [
    "### Hybrid Filering"
   ]
  },
  {
   "cell_type": "code",
   "execution_count": 36,
   "id": "54198baf-7cb4-4f6c-b849-2bb04c0002ce",
   "metadata": {},
   "outputs": [],
   "source": [
    "def hybrid_recommend(id, movie):\n",
    "    content_based = content_based_recommend(movie)\n",
    "    collab_based = collaborative_recommend(id, movie)\n",
    "    return content_based+collab_based"
   ]
  },
  {
   "cell_type": "code",
   "execution_count": 37,
   "id": "653bf06d-ea89-4bf6-a593-80522b3e5ae3",
   "metadata": {},
   "outputs": [
    {
     "data": {
      "text/plain": [
       "['Jurassic World',\n",
       " 'The Lost World: Jurassic Park',\n",
       " 'Jurassic Park III',\n",
       " 'Futureworld',\n",
       " 'The Land Before Time',\n",
       " 'Octopussy',\n",
       " 'La Grande Bouffe',\n",
       " 'Cry Macho',\n",
       " 'Spanish Affair 2',\n",
       " '[REC]']"
      ]
     },
     "execution_count": 37,
     "metadata": {},
     "output_type": "execute_result"
    }
   ],
   "source": [
    "hybrid_recommend(1999, \"Jurassic Park\")"
   ]
  },
  {
   "cell_type": "markdown",
   "id": "39d269b6-e95c-4dee-b604-a3ccfad8a71c",
   "metadata": {},
   "source": [
    "### Model export"
   ]
  },
  {
   "cell_type": "code",
   "execution_count": 38,
   "id": "4a8e8349-09f2-40f4-9c2d-303951a59a04",
   "metadata": {},
   "outputs": [],
   "source": [
    "import pickle as pk"
   ]
  },
  {
   "cell_type": "code",
   "execution_count": 39,
   "id": "f833c099-10f6-4937-8105-59acf78bac9b",
   "metadata": {},
   "outputs": [],
   "source": [
    "movies = list(df[\"title\"])"
   ]
  },
  {
   "cell_type": "code",
   "execution_count": 40,
   "id": "fe020dc4-641a-4ac0-a5dc-946b797c2549",
   "metadata": {},
   "outputs": [],
   "source": [
    "pk.dump(movies, open(\"movies.pkl\", 'wb'))"
   ]
  },
  {
   "cell_type": "code",
   "execution_count": 41,
   "id": "53576d7e-f041-4e5e-8cd5-2718818b08fe",
   "metadata": {},
   "outputs": [],
   "source": [
    "df1 = content_based_df.to_dict()"
   ]
  },
  {
   "cell_type": "code",
   "execution_count": 42,
   "id": "ffb45452-80ed-4fe5-b22a-9a8684f116d5",
   "metadata": {},
   "outputs": [],
   "source": [
    "pk.dump(df1, open(\"df1.pkl\", 'wb'))"
   ]
  },
  {
   "cell_type": "code",
   "execution_count": 43,
   "id": "9916c607-24e1-4a4e-b226-278404565842",
   "metadata": {},
   "outputs": [],
   "source": [
    "pk.dump(content_based_similarity, open(\"similarity.pkl\", 'wb'))"
   ]
  },
  {
   "cell_type": "code",
   "execution_count": null,
   "id": "7e853247-6496-4327-bb50-172f2aa89f7c",
   "metadata": {},
   "outputs": [],
   "source": []
  }
 ],
 "metadata": {
  "kernelspec": {
   "display_name": "Python 3 (ipykernel)",
   "language": "python",
   "name": "python3"
  },
  "language_info": {
   "codemirror_mode": {
    "name": "ipython",
    "version": 3
   },
   "file_extension": ".py",
   "mimetype": "text/x-python",
   "name": "python",
   "nbconvert_exporter": "python",
   "pygments_lexer": "ipython3",
   "version": "3.11.5"
  }
 },
 "nbformat": 4,
 "nbformat_minor": 5
}
